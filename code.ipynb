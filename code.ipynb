{
 "cells": [
  {
   "cell_type": "markdown",
   "metadata": {},
   "source": [
    "#### Import dataset, punctuations and stop words"
   ]
  },
  {
   "cell_type": "code",
   "execution_count": 36,
   "metadata": {},
   "outputs": [],
   "source": [
    "import numpy as np\n",
    "import pandas as pd\n",
    "from tqdm.notebook import tqdm"
   ]
  },
  {
   "cell_type": "code",
   "execution_count": 2,
   "metadata": {},
   "outputs": [],
   "source": [
    "# Read Train Data\n",
    "train_df = pd.read_csv('./swad_train.csv', header=0, names = ['id','tweet','label'])\n",
    "# Convert string labels to numerical labels\n",
    "train_df.loc[train_df['label']=='Yes',['label']]=1\n",
    "train_df.loc[train_df['label']=='No',['label']]=0\n",
    "# Read Test Data\n",
    "test_df = pd.read_csv('./swad_test.csv', header=0, names = ['id','tweet','label'])\n",
    "# Convert string labels to numerical labels\n",
    "test_df.loc[test_df['label']=='Yes',['label']]=1\n",
    "test_df.loc[test_df['label']=='No',['label']]=0\n",
    "# Read Punctuations\n",
    "df_punctuations = pd.read_fwf('./punctuations.txt',header=None,names = ['punctuations'])\n",
    "puncs = ''.join(df_punctuations['punctuations'])\n",
    "# Read Stop Words\n",
    "df_stop_words = pd.read_fwf('./stopwords.txt',header=None,names = ['stopwords'])\n",
    "stop_words = [x for x in df_stop_words['stopwords']]"
   ]
  },
  {
   "cell_type": "code",
   "execution_count": 3,
   "metadata": {},
   "outputs": [],
   "source": [
    "class TfIdf(object):\n",
    "\n",
    "    def __init__(self,):\n",
    "        self.vocab = {}\n",
    "        self.df = {}\n",
    "        self.num_docs = 0\n",
    "\n",
    "    def preprocess(self, text):\n",
    "        ''' Pre-Process texts\n",
    "            Input  : text string\n",
    "            Output : tokens\n",
    "        '''\n",
    "        text = text.strip()\n",
    "        # lower casing\n",
    "        text = text.lower()\n",
    "        # add space before and after punctuations\n",
    "        text = text.translate(str.maketrans({key: ' {0} '.format(key) for key in puncs}))\n",
    "        # Tokenize text\n",
    "        tokens = text.split()\n",
    "        # Remove Stop words\n",
    "        tokens = [token for token in tokens if not token in stop_words]\n",
    "        return tokens\n",
    "\n",
    "    def fit(self, texts):\n",
    "        ''' Fit data to TF-IDF model\n",
    "            Input  : List of Documents\n",
    "            Output : None\n",
    "        '''\n",
    "        self.num_docs=len(texts)\n",
    "\n",
    "        for text in tqdm(texts, desc='Fitting the Data'):\n",
    "            tokens = self.preprocess(text)\n",
    "            # add unique words in vocab\n",
    "            self.vocab.update({token:0 for token in tokens})\n",
    "            # get Document Frequency\n",
    "            self.df.update({token:0 for token in set(tokens) if token not in self.df.keys()})\n",
    "            self.df.update({token:self.df[token]+1 for token in set(tokens) if token in self.df.keys()})\n",
    "\n",
    "    def transform(self, texts):\n",
    "        ''' Transform data to TF-IDF matrix\n",
    "            Input  : List of Documents\n",
    "            Output : TF-IDF Matrix\n",
    "        '''\n",
    "        tfidf = np.zeros((len(texts), len(self.vocab)))\n",
    "        for i, text in tqdm(enumerate(texts), desc='Generating TF-IDF Matrix', total=len(texts)):\n",
    "            tokens = self.preprocess(text)\n",
    "            # calculate term frequncy\n",
    "            tf = np.array([tokens.count(word)/len(tokens) for idx,word in enumerate(self.vocab.keys())]).squeeze()\n",
    "            # calculate inverse document frequency\n",
    "            idf = np.array([np.log((self.num_docs)/(self.df[word]+1)) for idx,word in enumerate(self.vocab.keys())]).squeeze()\n",
    "            # calculate tfidf\n",
    "            tfidf[i] = tf*idf\n",
    "        return tfidf"
   ]
  },
  {
   "cell_type": "code",
   "execution_count": 4,
   "metadata": {},
   "outputs": [
    {
     "data": {
      "application/vnd.jupyter.widget-view+json": {
       "model_id": "60dc81c8e92746d7b61f77ad3f4534c5",
       "version_major": 2,
       "version_minor": 0
      },
      "text/plain": [
       "Fitting the Data:   0%|          | 0/3589 [00:00<?, ?it/s]"
      ]
     },
     "metadata": {},
     "output_type": "display_data"
    },
    {
     "data": {
      "application/vnd.jupyter.widget-view+json": {
       "model_id": "d38d3031334e42fd961cad489358795d",
       "version_major": 2,
       "version_minor": 0
      },
      "text/plain": [
       "Generating TF-IDF Matrix:   0%|          | 0/3589 [00:00<?, ?it/s]"
      ]
     },
     "metadata": {},
     "output_type": "display_data"
    },
    {
     "data": {
      "application/vnd.jupyter.widget-view+json": {
       "model_id": "c8b7d4b7b2a64a36a0f89bd6171a88b2",
       "version_major": 2,
       "version_minor": 0
      },
      "text/plain": [
       "Generating TF-IDF Matrix:   0%|          | 0/500 [00:00<?, ?it/s]"
      ]
     },
     "metadata": {},
     "output_type": "display_data"
    },
    {
     "name": "stdout",
     "output_type": "stream",
     "text": [
      "The size of training set: (3589, 6569)\n",
      "The size of test set: (500, 6569)\n"
     ]
    }
   ],
   "source": [
    "tfidf = TfIdf()\n",
    "tfidf.fit(train_df['tweet'].values.astype(str))\n",
    "\n",
    "x_train = tfidf.transform(train_df['tweet'].values.astype(str))\n",
    "x_test = tfidf.transform(test_df['tweet'].values.astype(str))\n",
    "\n",
    "\n",
    "y_train = np.zeros((train_df['label'].values.astype(int).shape[0], 2))\n",
    "y_train[np.arange(train_df['label'].values.astype(int).shape[0]), train_df['label'].values.astype(int)] = 1\n",
    "\n",
    "y_test = np.zeros((test_df['label'].values.astype(int).shape[0], 2))\n",
    "y_test[np.arange(test_df['label'].values.astype(int).shape[0]), test_df['label'].values.astype(int)] = 1\n",
    "\n",
    "\n",
    "print('The size of training set:', x_train.shape)\n",
    "print('The size of test set:', x_test.shape)\n",
    "\n"
   ]
  },
  {
   "cell_type": "code",
   "execution_count": 5,
   "metadata": {},
   "outputs": [],
   "source": [
    "def sigmoid(x):\n",
    "    x = 1/(1+np.exp(-x))\n",
    "    return x\n",
    "\n",
    "class LogisticRegression(object):\n",
    "    \n",
    "    def __init__(self,):\n",
    "        ''' Initialization of the weights and bias '''\n",
    "        self.w = 0\n",
    "        self.b = 0\n",
    "        \n",
    "    def BCE(self, x, y):\n",
    "        ''' Calculates the binary cross entropy loss of the model '''\n",
    "        loss = 0\n",
    "        z = x @ self.w + self.b\n",
    "        n = x.shape[0]\n",
    "        loss = -np.sum(np.sum((y*np.log(sigmoid(z))) + ((1-y) * (np.log(1-sigmoid(z)))),axis=1))/n\n",
    "        return loss\n",
    "    \n",
    "    def predict(self, x):\n",
    "        ''' Predicts labels for input test data '''\n",
    "        y_hat = sigmoid(np.dot(x, self.w)+self.b).squeeze()\n",
    "        return np.argmax(y_hat, axis=-1)\n",
    "\n",
    "    def fit(self, X, Y, lr, num_epoch=100,print_loss = True):\n",
    "        ''' Model Training using Stochastic Gradient Descent Optimization'''\n",
    "        self.w = np.random.rand(X.shape[1], Y.shape[1])\n",
    "        self.b = np.random.rand(1, Y.shape[1])\n",
    "        \n",
    "        # Run Stocahastic Gradient Descent for given iterations\n",
    "        for e in tqdm(range(num_epoch),desc='Training'):\n",
    "\n",
    "            for i in range(len(X)):\n",
    "                # feed one row at a time to the model\n",
    "                x = X[i,:].reshape(1,-1)\n",
    "                y = Y[i,:].reshape(1,-1)\n",
    "                \n",
    "                # Calculate gradients for the weights and bias\n",
    "                dw = []\n",
    "                db = []\n",
    "                z = x @ self.w + self.b\n",
    "                dw = x.T @ (sigmoid(z)-y)\n",
    "                db = sigmoid(z)-y\n",
    "\n",
    "                # Update weights and Bias\n",
    "                self.w -= lr*dw\n",
    "                self.b -= lr*db\n",
    "    \n",
    "            if print_loss:\n",
    "                if (e+1)%50==0 or e ==0:\n",
    "                    print(f'At epoch {e+1}, loss: {self.BCE(X,Y):.4f}.')\n",
    "    \n"
   ]
  },
  {
   "cell_type": "code",
   "execution_count": 6,
   "metadata": {},
   "outputs": [
    {
     "data": {
      "application/vnd.jupyter.widget-view+json": {
       "model_id": "5de459892fc94afaa803d678cbcf1ca4",
       "version_major": 2,
       "version_minor": 0
      },
      "text/plain": [
       "Training:   0%|          | 0/150 [00:00<?, ?it/s]"
      ]
     },
     "metadata": {},
     "output_type": "display_data"
    },
    {
     "name": "stdout",
     "output_type": "stream",
     "text": [
      "At epoch 1, loss: 1.3492.\n",
      "At epoch 50, loss: 0.8302.\n",
      "At epoch 100, loss: 0.6552.\n",
      "At epoch 150, loss: 0.5553.\n",
      "Test Accuracy : 85.0000% .\n"
     ]
    }
   ],
   "source": [
    "\n",
    "epochs = 150\n",
    "lr = 0.01\n",
    "LogReg_clf = LogisticRegression()\n",
    "LogReg_clf.fit(x_train, y_train, lr, epochs)\n",
    "y_hat = LogReg_clf.predict(x_test)\n",
    "y = np.argmax(y_test, axis=1)\n",
    "accuracy_score = 1 - np.sum((y-y_hat)**2)/len(y)\n",
    "\n",
    "print(f'Test Accuracy : {accuracy_score*100:.4f}% .')\n"
   ]
  },
  {
   "cell_type": "markdown",
   "metadata": {},
   "source": [
    "## Q.2"
   ]
  },
  {
   "cell_type": "code",
   "execution_count": 37,
   "metadata": {},
   "outputs": [
    {
     "data": {
      "text/html": [
       "<div>\n",
       "<style scoped>\n",
       "    .dataframe tbody tr th:only-of-type {\n",
       "        vertical-align: middle;\n",
       "    }\n",
       "\n",
       "    .dataframe tbody tr th {\n",
       "        vertical-align: top;\n",
       "    }\n",
       "\n",
       "    .dataframe thead th {\n",
       "        text-align: right;\n",
       "    }\n",
       "</style>\n",
       "<table border=\"1\" class=\"dataframe\">\n",
       "  <thead>\n",
       "    <tr style=\"text-align: right;\">\n",
       "      <th></th>\n",
       "      <th>age</th>\n",
       "      <th>workclass</th>\n",
       "      <th>fnlwgt</th>\n",
       "      <th>education</th>\n",
       "      <th>marital-status</th>\n",
       "      <th>occupation</th>\n",
       "      <th>relationship</th>\n",
       "      <th>race</th>\n",
       "      <th>sex</th>\n",
       "      <th>capital-gain</th>\n",
       "      <th>capital-loss</th>\n",
       "      <th>hours-per-week</th>\n",
       "      <th>native-country</th>\n",
       "    </tr>\n",
       "  </thead>\n",
       "  <tbody>\n",
       "    <tr>\n",
       "      <th>0</th>\n",
       "      <td>39</td>\n",
       "      <td>State-gov</td>\n",
       "      <td>77516</td>\n",
       "      <td>Bachelors</td>\n",
       "      <td>Never-married</td>\n",
       "      <td>Adm-clerical</td>\n",
       "      <td>Not-in-family</td>\n",
       "      <td>White</td>\n",
       "      <td>Male</td>\n",
       "      <td>2174</td>\n",
       "      <td>0</td>\n",
       "      <td>40</td>\n",
       "      <td>United-States</td>\n",
       "    </tr>\n",
       "    <tr>\n",
       "      <th>1</th>\n",
       "      <td>50</td>\n",
       "      <td>Self-emp-not-inc</td>\n",
       "      <td>83311</td>\n",
       "      <td>Bachelors</td>\n",
       "      <td>Married-civ-spouse</td>\n",
       "      <td>Exec-managerial</td>\n",
       "      <td>Husband</td>\n",
       "      <td>White</td>\n",
       "      <td>Male</td>\n",
       "      <td>0</td>\n",
       "      <td>0</td>\n",
       "      <td>13</td>\n",
       "      <td>United-States</td>\n",
       "    </tr>\n",
       "    <tr>\n",
       "      <th>2</th>\n",
       "      <td>38</td>\n",
       "      <td>Private</td>\n",
       "      <td>215646</td>\n",
       "      <td>HS-grad</td>\n",
       "      <td>Divorced</td>\n",
       "      <td>Handlers-cleaners</td>\n",
       "      <td>Not-in-family</td>\n",
       "      <td>White</td>\n",
       "      <td>Male</td>\n",
       "      <td>0</td>\n",
       "      <td>0</td>\n",
       "      <td>40</td>\n",
       "      <td>United-States</td>\n",
       "    </tr>\n",
       "    <tr>\n",
       "      <th>3</th>\n",
       "      <td>53</td>\n",
       "      <td>Private</td>\n",
       "      <td>234721</td>\n",
       "      <td>11th</td>\n",
       "      <td>Married-civ-spouse</td>\n",
       "      <td>Handlers-cleaners</td>\n",
       "      <td>Husband</td>\n",
       "      <td>Black</td>\n",
       "      <td>Male</td>\n",
       "      <td>0</td>\n",
       "      <td>0</td>\n",
       "      <td>40</td>\n",
       "      <td>United-States</td>\n",
       "    </tr>\n",
       "    <tr>\n",
       "      <th>4</th>\n",
       "      <td>28</td>\n",
       "      <td>Private</td>\n",
       "      <td>338409</td>\n",
       "      <td>Bachelors</td>\n",
       "      <td>Married-civ-spouse</td>\n",
       "      <td>Prof-specialty</td>\n",
       "      <td>Wife</td>\n",
       "      <td>Black</td>\n",
       "      <td>Female</td>\n",
       "      <td>0</td>\n",
       "      <td>0</td>\n",
       "      <td>40</td>\n",
       "      <td>Cuba</td>\n",
       "    </tr>\n",
       "  </tbody>\n",
       "</table>\n",
       "</div>"
      ],
      "text/plain": [
       "   age          workclass  fnlwgt   education       marital-status  \\\n",
       "0   39          State-gov   77516   Bachelors        Never-married   \n",
       "1   50   Self-emp-not-inc   83311   Bachelors   Married-civ-spouse   \n",
       "2   38            Private  215646     HS-grad             Divorced   \n",
       "3   53            Private  234721        11th   Married-civ-spouse   \n",
       "4   28            Private  338409   Bachelors   Married-civ-spouse   \n",
       "\n",
       "           occupation    relationship    race      sex  capital-gain  \\\n",
       "0        Adm-clerical   Not-in-family   White     Male          2174   \n",
       "1     Exec-managerial         Husband   White     Male             0   \n",
       "2   Handlers-cleaners   Not-in-family   White     Male             0   \n",
       "3   Handlers-cleaners         Husband   Black     Male             0   \n",
       "4      Prof-specialty            Wife   Black   Female             0   \n",
       "\n",
       "   capital-loss  hours-per-week  native-country  \n",
       "0             0              40   United-States  \n",
       "1             0              13   United-States  \n",
       "2             0              40   United-States  \n",
       "3             0              40   United-States  \n",
       "4             0              40            Cuba  "
      ]
     },
     "execution_count": 37,
     "metadata": {},
     "output_type": "execute_result"
    }
   ],
   "source": [
    "# Read the data\n",
    "df = pd.read_csv('./income.csv')\n",
    "# the column education and education-num are same, so dropping one.\n",
    "df = df.drop(columns=['education-num'])\n",
    "categorical_cols = ['workclass','education','marital-status','occupation','relationship','race','sex','native-country']\n",
    "numerical_cols = ['age','fnlwgt','capital-gain','capital-loss','hours-per-week']\n",
    "df.head()"
   ]
  },
  {
   "cell_type": "code",
   "execution_count": 81,
   "metadata": {},
   "outputs": [],
   "source": [
    "import matplotlib.pyplot as plt\n",
    "class KMeans(object):\n",
    "\n",
    "    def preprocess(self, df,categorical_cols,numerical_cols):\n",
    "        ''' Pre-Process data\n",
    "            Input  : data, list of categorical columns, list of numerical columns\n",
    "            Output : preprocess nd-array\n",
    "        '''\n",
    "        \n",
    "        for col in numerical_cols:\n",
    "            # Replace unknown values with column mean\n",
    "            df.loc[df[col]==' ?',[col]]=np.mean(df[col])\n",
    "            # Normalization\n",
    "            df[col] = (df[col]-df[col].min())/(df[col].max()-df[col].min())\n",
    "\n",
    "        # x = np.array(df.drop(columns=categorical_cols).values.astype(float))\n",
    "        \n",
    "        for col in categorical_cols:\n",
    "            categories = np.unique(df[col])\n",
    "\n",
    "            # Replace categories with numerical values\n",
    "            for i,c in enumerate(categories):\n",
    "                df.loc[df[col]==c,[col]]=i\n",
    "            \n",
    "            # # One Hot encoding for categorical values\n",
    "            # one_hot = np.zeros((df[col].shape[0],len(categories)))\n",
    "            # one_hot[np.arange(df[col].shape[0]),df[col].values.astype(int)] = 1\n",
    "            # x = np.concatenate((x,one_hot),axis=1)\n",
    "        \n",
    "            \n",
    "        \n",
    "        return np.array(df.values.astype(float))\n",
    "    \n",
    "    def distance(self,x,c):\n",
    "        # Initialize dist\n",
    "        dist = np.zeros((x.shape[0],1))\n",
    "        # Loop through each centroid\n",
    "        for centroid in c:\n",
    "            # calculate distance of centroid from each point\n",
    "            distc = np.sqrt(np.sum((x-centroid)**2,axis=1)).reshape(-1,1)\n",
    "            # add distances to an array\n",
    "            dist = np.concatenate((dist,distc),axis=1)\n",
    "        # remove column with zero values\n",
    "        dist = np.delete(dist,0,axis=1)\n",
    "        return dist\n",
    "    \n",
    "    def cluster(self,x,k, num_epochs):\n",
    "        ''' Clusters data into n clusters\n",
    "            input: data,num of clusters,num of iterations\n",
    "            output: labels, distortions\n",
    "        '''\n",
    "\n",
    "        ## initialize centroids\n",
    "\n",
    "        # choosing k random indices from data\n",
    "        idx = np.random.choice(len(x), k, replace=False)\n",
    "        # assigning the indices as centroids\n",
    "        c = x[idx, :]\n",
    "        # finding the distance between centroids and all the data points\n",
    "        dist = self.distance(x, c)\n",
    "        # print(dist.shape)\n",
    "        # Centroid labels with the minimum Distance drom point i\n",
    "        labels = np.array([np.argmin(i) for i in dist])\n",
    "        # print(labels.shape)\n",
    "\n",
    "        ## Repeating the above steps for the number of epochs\n",
    "        for _ in range(num_epochs):\n",
    "            c = []\n",
    "            for idx in range(k):\n",
    "                # Updating Centroids by taking mean of Cluster it belongs to\n",
    "                temp_cent = x[labels==idx].mean(axis=0) \n",
    "                c.append(temp_cent)\n",
    "            c = np.vstack(c) #Updated Centroids \n",
    "            dist = self.distance(x, c)\n",
    "            labels = np.array([np.argmin(i) for i in dist])\n",
    "        print(f'{k} clusters formed')\n",
    "        distortions = np.mean(np.min(dist,axis=1))\n",
    "        \n",
    "        return distortions\n",
    " \n",
    "\n",
    "    \n"
   ]
  },
  {
   "cell_type": "code",
   "execution_count": 83,
   "metadata": {},
   "outputs": [
    {
     "name": "stdout",
     "output_type": "stream",
     "text": [
      "1 clusters formed\n",
      "2 clusters formed\n",
      "3 clusters formed\n",
      "4 clusters formed\n",
      "5 clusters formed\n",
      "6 clusters formed\n",
      "7 clusters formed\n",
      "8 clusters formed\n",
      "9 clusters formed\n",
      "10 clusters formed\n"
     ]
    },
    {
     "data": {
      "image/png": "[encoded data removed]",
      "text/plain": [
       "<Figure size 432x288 with 1 Axes>"
      ]
     },
     "metadata": {
      "needs_background": "light"
     },
     "output_type": "display_data"
    }
   ],
   "source": [
    "clf = KMeans()\n",
    "px = clf.preprocess(df,categorical_cols,numerical_cols)\n",
    "\n",
    "dist = []\n",
    "ks = []\n",
    "for k in range(10):\n",
    "    distortions = clf.cluster(px,k+1,100)\n",
    "    dist.append(distortions)\n",
    "    ks.append(k+1)\n",
    "\n",
    "plot = plt.plot(ks,dist)\n"
   ]
  },
  {
   "cell_type": "markdown",
   "metadata": {},
   "source": [
    "### The optimized k Value can be found at K = 3 where we can clearly see the elbow forming"
   ]
  },
  {
   "cell_type": "code",
   "execution_count": 13,
   "metadata": {},
   "outputs": [
    {
     "name": "stdout",
     "output_type": "stream",
     "text": [
      "3 clusters formed\n"
     ]
    }
   ],
   "source": [
    "label,d = clf.cluster(px,3,1000)\n"
   ]
  },
  {
   "cell_type": "code",
   "execution_count": 17,
   "metadata": {},
   "outputs": [
    {
     "name": "stdout",
     "output_type": "stream",
     "text": [
      "5.264737197462814\n"
     ]
    }
   ],
   "source": [
    "print(d)"
   ]
  }
 ],
 "metadata": {
  "interpreter": {
   "hash": "af2ae0b2d1afef30729054acd7884eecb75ec13e978a0196b5f9b32b71a04819"
  },
  "kernelspec": {
   "display_name": "Python 3.9.7 ('mllibs')",
   "language": "python",
   "name": "python3"
  },
  "language_info": {
   "codemirror_mode": {
    "name": "ipython",
    "version": 3
   },
   "file_extension": ".py",
   "mimetype": "text/x-python",
   "name": "python",
   "nbconvert_exporter": "python",
   "pygments_lexer": "ipython3",
   "version": "3.9.7"
  },
  "orig_nbformat": 4
 },
 "nbformat": 4,
 "nbformat_minor": 2
}
